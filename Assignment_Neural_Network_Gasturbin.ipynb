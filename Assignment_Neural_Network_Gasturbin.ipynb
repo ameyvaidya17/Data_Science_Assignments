{
 "cells": [
  {
   "cell_type": "markdown",
   "id": "3778af54",
   "metadata": {},
   "source": [
    "# Problem Statement"
   ]
  },
  {
   "cell_type": "raw",
   "id": "352af0e2",
   "metadata": {},
   "source": [
    "VThe dataset contains 36733 instances of 11 sensor measures aggregated over one hour (by means of average or sum) from a gas turbine. \n",
    "The Dataset includes gas turbine parameters (such as Turbine Inlet Temperature and Compressor Discharge pressure) in addition to the ambient variables.\n",
    "\n",
    "Problem statement: predicting turbine energy yield (TEY) using ambient variables as features.\n",
    "\n",
    "Attribute Information:\n",
    "\n",
    "The explanations of sensor measurements and their brief statistics are given below.\n",
    "\n",
    "Variable (Abbr.) Unit Min Max Mean\n",
    "Ambient temperature (AT) C â€“6.23 37.10 17.71\n",
    "Ambient pressure (AP) mbar 985.85 1036.56 1013.07\n",
    "Ambient humidity (AH) (%) 24.08 100.20 77.87\n",
    "Air filter difference pressure (AFDP) mbar 2.09 7.61 3.93\n",
    "Gas turbine exhaust pressure (GTEP) mbar 17.70 40.72 25.56\n",
    "Turbine inlet temperature (TIT) C 1000.85 1100.89 1081.43\n",
    "Turbine after temperature (TAT) C 511.04 550.61 546.16\n",
    "Compressor discharge pressure (CDP) mbar 9.85 15.16 12.06\n",
    "Turbine energy yield (TEY) MWH 100.02 179.50 133.51\n",
    "Carbon monoxide (CO) mg/m3 0.00 44.10 2.37\n",
    "Nitrogen oxides (NOx) mg/m3 25.90 119.91 65.29"
   ]
  },
  {
   "cell_type": "code",
   "execution_count": 1,
   "id": "f731f55d",
   "metadata": {
    "ExecuteTime": {
     "end_time": "2023-03-16T08:29:53.352841Z",
     "start_time": "2023-03-16T08:29:40.114778Z"
    }
   },
   "outputs": [],
   "source": [
    "import pandas as pd\n",
    "import numpy as np \n",
    "from sklearn.preprocessing import StandardScaler\n",
    "from sklearn.metrics import classification_report\n",
    "import tensorflow as tf\n",
    "from tensorflow.keras import Sequential\n",
    "from tensorflow.keras.layers import Dense\n",
    "from sklearn.model_selection import train_test_split\n",
    "import matplotlib.pyplot as plt\n",
    "\n",
    "%matplotlib inline\n",
    "\n",
    "import warnings\n",
    "warnings.filterwarnings('ignore')"
   ]
  },
  {
   "cell_type": "code",
   "execution_count": 2,
   "id": "f3ada839",
   "metadata": {
    "ExecuteTime": {
     "end_time": "2023-03-16T08:30:08.519361Z",
     "start_time": "2023-03-16T08:30:08.417623Z"
    }
   },
   "outputs": [
    {
     "data": {
      "text/html": [
       "<div>\n",
       "<style scoped>\n",
       "    .dataframe tbody tr th:only-of-type {\n",
       "        vertical-align: middle;\n",
       "    }\n",
       "\n",
       "    .dataframe tbody tr th {\n",
       "        vertical-align: top;\n",
       "    }\n",
       "\n",
       "    .dataframe thead th {\n",
       "        text-align: right;\n",
       "    }\n",
       "</style>\n",
       "<table border=\"1\" class=\"dataframe\">\n",
       "  <thead>\n",
       "    <tr style=\"text-align: right;\">\n",
       "      <th></th>\n",
       "      <th>AT</th>\n",
       "      <th>AP</th>\n",
       "      <th>AH</th>\n",
       "      <th>AFDP</th>\n",
       "      <th>GTEP</th>\n",
       "      <th>TIT</th>\n",
       "      <th>TAT</th>\n",
       "      <th>TEY</th>\n",
       "      <th>CDP</th>\n",
       "      <th>CO</th>\n",
       "      <th>NOX</th>\n",
       "    </tr>\n",
       "  </thead>\n",
       "  <tbody>\n",
       "    <tr>\n",
       "      <th>0</th>\n",
       "      <td>6.8594</td>\n",
       "      <td>1007.9</td>\n",
       "      <td>96.799</td>\n",
       "      <td>3.5000</td>\n",
       "      <td>19.663</td>\n",
       "      <td>1059.2</td>\n",
       "      <td>550.00</td>\n",
       "      <td>114.70</td>\n",
       "      <td>10.605</td>\n",
       "      <td>3.1547</td>\n",
       "      <td>82.722</td>\n",
       "    </tr>\n",
       "    <tr>\n",
       "      <th>1</th>\n",
       "      <td>6.7850</td>\n",
       "      <td>1008.4</td>\n",
       "      <td>97.118</td>\n",
       "      <td>3.4998</td>\n",
       "      <td>19.728</td>\n",
       "      <td>1059.3</td>\n",
       "      <td>550.00</td>\n",
       "      <td>114.72</td>\n",
       "      <td>10.598</td>\n",
       "      <td>3.2363</td>\n",
       "      <td>82.776</td>\n",
       "    </tr>\n",
       "    <tr>\n",
       "      <th>2</th>\n",
       "      <td>6.8977</td>\n",
       "      <td>1008.8</td>\n",
       "      <td>95.939</td>\n",
       "      <td>3.4824</td>\n",
       "      <td>19.779</td>\n",
       "      <td>1059.4</td>\n",
       "      <td>549.87</td>\n",
       "      <td>114.71</td>\n",
       "      <td>10.601</td>\n",
       "      <td>3.2012</td>\n",
       "      <td>82.468</td>\n",
       "    </tr>\n",
       "    <tr>\n",
       "      <th>3</th>\n",
       "      <td>7.0569</td>\n",
       "      <td>1009.2</td>\n",
       "      <td>95.249</td>\n",
       "      <td>3.4805</td>\n",
       "      <td>19.792</td>\n",
       "      <td>1059.6</td>\n",
       "      <td>549.99</td>\n",
       "      <td>114.72</td>\n",
       "      <td>10.606</td>\n",
       "      <td>3.1923</td>\n",
       "      <td>82.670</td>\n",
       "    </tr>\n",
       "    <tr>\n",
       "      <th>4</th>\n",
       "      <td>7.3978</td>\n",
       "      <td>1009.7</td>\n",
       "      <td>95.150</td>\n",
       "      <td>3.4976</td>\n",
       "      <td>19.765</td>\n",
       "      <td>1059.7</td>\n",
       "      <td>549.98</td>\n",
       "      <td>114.72</td>\n",
       "      <td>10.612</td>\n",
       "      <td>3.2484</td>\n",
       "      <td>82.311</td>\n",
       "    </tr>\n",
       "    <tr>\n",
       "      <th>...</th>\n",
       "      <td>...</td>\n",
       "      <td>...</td>\n",
       "      <td>...</td>\n",
       "      <td>...</td>\n",
       "      <td>...</td>\n",
       "      <td>...</td>\n",
       "      <td>...</td>\n",
       "      <td>...</td>\n",
       "      <td>...</td>\n",
       "      <td>...</td>\n",
       "      <td>...</td>\n",
       "    </tr>\n",
       "    <tr>\n",
       "      <th>15034</th>\n",
       "      <td>9.0301</td>\n",
       "      <td>1005.6</td>\n",
       "      <td>98.460</td>\n",
       "      <td>3.5421</td>\n",
       "      <td>19.164</td>\n",
       "      <td>1049.7</td>\n",
       "      <td>546.21</td>\n",
       "      <td>111.61</td>\n",
       "      <td>10.400</td>\n",
       "      <td>4.5186</td>\n",
       "      <td>79.559</td>\n",
       "    </tr>\n",
       "    <tr>\n",
       "      <th>15035</th>\n",
       "      <td>7.8879</td>\n",
       "      <td>1005.9</td>\n",
       "      <td>99.093</td>\n",
       "      <td>3.5059</td>\n",
       "      <td>19.414</td>\n",
       "      <td>1046.3</td>\n",
       "      <td>543.22</td>\n",
       "      <td>111.78</td>\n",
       "      <td>10.433</td>\n",
       "      <td>4.8470</td>\n",
       "      <td>79.917</td>\n",
       "    </tr>\n",
       "    <tr>\n",
       "      <th>15036</th>\n",
       "      <td>7.2647</td>\n",
       "      <td>1006.3</td>\n",
       "      <td>99.496</td>\n",
       "      <td>3.4770</td>\n",
       "      <td>19.530</td>\n",
       "      <td>1037.7</td>\n",
       "      <td>537.32</td>\n",
       "      <td>110.19</td>\n",
       "      <td>10.483</td>\n",
       "      <td>7.9632</td>\n",
       "      <td>90.912</td>\n",
       "    </tr>\n",
       "    <tr>\n",
       "      <th>15037</th>\n",
       "      <td>7.0060</td>\n",
       "      <td>1006.8</td>\n",
       "      <td>99.008</td>\n",
       "      <td>3.4486</td>\n",
       "      <td>19.377</td>\n",
       "      <td>1043.2</td>\n",
       "      <td>541.24</td>\n",
       "      <td>110.74</td>\n",
       "      <td>10.533</td>\n",
       "      <td>6.2494</td>\n",
       "      <td>93.227</td>\n",
       "    </tr>\n",
       "    <tr>\n",
       "      <th>15038</th>\n",
       "      <td>6.9279</td>\n",
       "      <td>1007.2</td>\n",
       "      <td>97.533</td>\n",
       "      <td>3.4275</td>\n",
       "      <td>19.306</td>\n",
       "      <td>1049.9</td>\n",
       "      <td>545.85</td>\n",
       "      <td>111.58</td>\n",
       "      <td>10.583</td>\n",
       "      <td>4.9816</td>\n",
       "      <td>92.498</td>\n",
       "    </tr>\n",
       "  </tbody>\n",
       "</table>\n",
       "<p>15039 rows × 11 columns</p>\n",
       "</div>"
      ],
      "text/plain": [
       "           AT      AP      AH    AFDP    GTEP     TIT     TAT     TEY     CDP  \\\n",
       "0      6.8594  1007.9  96.799  3.5000  19.663  1059.2  550.00  114.70  10.605   \n",
       "1      6.7850  1008.4  97.118  3.4998  19.728  1059.3  550.00  114.72  10.598   \n",
       "2      6.8977  1008.8  95.939  3.4824  19.779  1059.4  549.87  114.71  10.601   \n",
       "3      7.0569  1009.2  95.249  3.4805  19.792  1059.6  549.99  114.72  10.606   \n",
       "4      7.3978  1009.7  95.150  3.4976  19.765  1059.7  549.98  114.72  10.612   \n",
       "...       ...     ...     ...     ...     ...     ...     ...     ...     ...   \n",
       "15034  9.0301  1005.6  98.460  3.5421  19.164  1049.7  546.21  111.61  10.400   \n",
       "15035  7.8879  1005.9  99.093  3.5059  19.414  1046.3  543.22  111.78  10.433   \n",
       "15036  7.2647  1006.3  99.496  3.4770  19.530  1037.7  537.32  110.19  10.483   \n",
       "15037  7.0060  1006.8  99.008  3.4486  19.377  1043.2  541.24  110.74  10.533   \n",
       "15038  6.9279  1007.2  97.533  3.4275  19.306  1049.9  545.85  111.58  10.583   \n",
       "\n",
       "           CO     NOX  \n",
       "0      3.1547  82.722  \n",
       "1      3.2363  82.776  \n",
       "2      3.2012  82.468  \n",
       "3      3.1923  82.670  \n",
       "4      3.2484  82.311  \n",
       "...       ...     ...  \n",
       "15034  4.5186  79.559  \n",
       "15035  4.8470  79.917  \n",
       "15036  7.9632  90.912  \n",
       "15037  6.2494  93.227  \n",
       "15038  4.9816  92.498  \n",
       "\n",
       "[15039 rows x 11 columns]"
      ]
     },
     "execution_count": 2,
     "metadata": {},
     "output_type": "execute_result"
    }
   ],
   "source": [
    "df= pd.read_csv('Downloads/gas_turbines.csv')\n",
    "df"
   ]
  },
  {
   "cell_type": "code",
   "execution_count": 3,
   "id": "7313d11a",
   "metadata": {
    "ExecuteTime": {
     "end_time": "2023-03-16T08:30:19.282127Z",
     "start_time": "2023-03-16T08:30:19.269795Z"
    }
   },
   "outputs": [
    {
     "data": {
      "text/plain": [
       "AT      0\n",
       "AP      0\n",
       "AH      0\n",
       "AFDP    0\n",
       "GTEP    0\n",
       "TIT     0\n",
       "TAT     0\n",
       "TEY     0\n",
       "CDP     0\n",
       "CO      0\n",
       "NOX     0\n",
       "dtype: int64"
      ]
     },
     "execution_count": 3,
     "metadata": {},
     "output_type": "execute_result"
    }
   ],
   "source": [
    "df.isna().sum()"
   ]
  },
  {
   "cell_type": "code",
   "execution_count": 4,
   "id": "8b4dc496",
   "metadata": {
    "ExecuteTime": {
     "end_time": "2023-03-16T08:30:30.757921Z",
     "start_time": "2023-03-16T08:30:30.748526Z"
    }
   },
   "outputs": [
    {
     "data": {
      "text/plain": [
       "4207"
      ]
     },
     "execution_count": 4,
     "metadata": {},
     "output_type": "execute_result"
    }
   ],
   "source": [
    "df['TEY'].nunique()"
   ]
  },
  {
   "cell_type": "code",
   "execution_count": 5,
   "id": "25a5ea07",
   "metadata": {
    "ExecuteTime": {
     "end_time": "2023-03-16T08:30:41.645741Z",
     "start_time": "2023-03-16T08:30:41.637377Z"
    }
   },
   "outputs": [
    {
     "data": {
      "text/plain": [
       "(15039, 11)"
      ]
     },
     "execution_count": 5,
     "metadata": {},
     "output_type": "execute_result"
    }
   ],
   "source": [
    "df.shape"
   ]
  },
  {
   "cell_type": "code",
   "execution_count": 6,
   "id": "f9b4d529",
   "metadata": {
    "ExecuteTime": {
     "end_time": "2023-03-16T08:30:48.855805Z",
     "start_time": "2023-03-16T08:30:48.832334Z"
    }
   },
   "outputs": [
    {
     "name": "stdout",
     "output_type": "stream",
     "text": [
      "<class 'pandas.core.frame.DataFrame'>\n",
      "RangeIndex: 15039 entries, 0 to 15038\n",
      "Data columns (total 11 columns):\n",
      " #   Column  Non-Null Count  Dtype  \n",
      "---  ------  --------------  -----  \n",
      " 0   AT      15039 non-null  float64\n",
      " 1   AP      15039 non-null  float64\n",
      " 2   AH      15039 non-null  float64\n",
      " 3   AFDP    15039 non-null  float64\n",
      " 4   GTEP    15039 non-null  float64\n",
      " 5   TIT     15039 non-null  float64\n",
      " 6   TAT     15039 non-null  float64\n",
      " 7   TEY     15039 non-null  float64\n",
      " 8   CDP     15039 non-null  float64\n",
      " 9   CO      15039 non-null  float64\n",
      " 10  NOX     15039 non-null  float64\n",
      "dtypes: float64(11)\n",
      "memory usage: 1.3 MB\n"
     ]
    }
   ],
   "source": [
    "df.info()"
   ]
  },
  {
   "cell_type": "code",
   "execution_count": 7,
   "id": "545381b9",
   "metadata": {
    "ExecuteTime": {
     "end_time": "2023-03-16T08:31:08.083837Z",
     "start_time": "2023-03-16T08:31:07.994504Z"
    }
   },
   "outputs": [
    {
     "data": {
      "text/html": [
       "<div>\n",
       "<style scoped>\n",
       "    .dataframe tbody tr th:only-of-type {\n",
       "        vertical-align: middle;\n",
       "    }\n",
       "\n",
       "    .dataframe tbody tr th {\n",
       "        vertical-align: top;\n",
       "    }\n",
       "\n",
       "    .dataframe thead th {\n",
       "        text-align: right;\n",
       "    }\n",
       "</style>\n",
       "<table border=\"1\" class=\"dataframe\">\n",
       "  <thead>\n",
       "    <tr style=\"text-align: right;\">\n",
       "      <th></th>\n",
       "      <th>AT</th>\n",
       "      <th>AP</th>\n",
       "      <th>AH</th>\n",
       "      <th>AFDP</th>\n",
       "      <th>GTEP</th>\n",
       "      <th>TIT</th>\n",
       "      <th>TAT</th>\n",
       "      <th>TEY</th>\n",
       "      <th>CDP</th>\n",
       "      <th>CO</th>\n",
       "      <th>NOX</th>\n",
       "    </tr>\n",
       "  </thead>\n",
       "  <tbody>\n",
       "    <tr>\n",
       "      <th>count</th>\n",
       "      <td>15039.000000</td>\n",
       "      <td>15039.00000</td>\n",
       "      <td>15039.000000</td>\n",
       "      <td>15039.000000</td>\n",
       "      <td>15039.000000</td>\n",
       "      <td>15039.000000</td>\n",
       "      <td>15039.000000</td>\n",
       "      <td>15039.000000</td>\n",
       "      <td>15039.000000</td>\n",
       "      <td>15039.000000</td>\n",
       "      <td>15039.000000</td>\n",
       "    </tr>\n",
       "    <tr>\n",
       "      <th>mean</th>\n",
       "      <td>17.764381</td>\n",
       "      <td>1013.19924</td>\n",
       "      <td>79.124174</td>\n",
       "      <td>4.200294</td>\n",
       "      <td>25.419061</td>\n",
       "      <td>1083.798770</td>\n",
       "      <td>545.396183</td>\n",
       "      <td>134.188464</td>\n",
       "      <td>12.102353</td>\n",
       "      <td>1.972499</td>\n",
       "      <td>68.190934</td>\n",
       "    </tr>\n",
       "    <tr>\n",
       "      <th>std</th>\n",
       "      <td>7.574323</td>\n",
       "      <td>6.41076</td>\n",
       "      <td>13.793439</td>\n",
       "      <td>0.760197</td>\n",
       "      <td>4.173916</td>\n",
       "      <td>16.527806</td>\n",
       "      <td>7.866803</td>\n",
       "      <td>15.829717</td>\n",
       "      <td>1.103196</td>\n",
       "      <td>2.222206</td>\n",
       "      <td>10.470586</td>\n",
       "    </tr>\n",
       "    <tr>\n",
       "      <th>min</th>\n",
       "      <td>0.522300</td>\n",
       "      <td>985.85000</td>\n",
       "      <td>30.344000</td>\n",
       "      <td>2.087400</td>\n",
       "      <td>17.878000</td>\n",
       "      <td>1000.800000</td>\n",
       "      <td>512.450000</td>\n",
       "      <td>100.170000</td>\n",
       "      <td>9.904400</td>\n",
       "      <td>0.000388</td>\n",
       "      <td>27.765000</td>\n",
       "    </tr>\n",
       "    <tr>\n",
       "      <th>25%</th>\n",
       "      <td>11.408000</td>\n",
       "      <td>1008.90000</td>\n",
       "      <td>69.750000</td>\n",
       "      <td>3.723900</td>\n",
       "      <td>23.294000</td>\n",
       "      <td>1079.600000</td>\n",
       "      <td>542.170000</td>\n",
       "      <td>127.985000</td>\n",
       "      <td>11.622000</td>\n",
       "      <td>0.858055</td>\n",
       "      <td>61.303500</td>\n",
       "    </tr>\n",
       "    <tr>\n",
       "      <th>50%</th>\n",
       "      <td>18.186000</td>\n",
       "      <td>1012.80000</td>\n",
       "      <td>82.266000</td>\n",
       "      <td>4.186200</td>\n",
       "      <td>25.082000</td>\n",
       "      <td>1088.700000</td>\n",
       "      <td>549.890000</td>\n",
       "      <td>133.780000</td>\n",
       "      <td>12.025000</td>\n",
       "      <td>1.390200</td>\n",
       "      <td>66.601000</td>\n",
       "    </tr>\n",
       "    <tr>\n",
       "      <th>75%</th>\n",
       "      <td>23.862500</td>\n",
       "      <td>1016.90000</td>\n",
       "      <td>90.043500</td>\n",
       "      <td>4.550900</td>\n",
       "      <td>27.184000</td>\n",
       "      <td>1096.000000</td>\n",
       "      <td>550.060000</td>\n",
       "      <td>140.895000</td>\n",
       "      <td>12.578000</td>\n",
       "      <td>2.160400</td>\n",
       "      <td>73.935500</td>\n",
       "    </tr>\n",
       "    <tr>\n",
       "      <th>max</th>\n",
       "      <td>34.929000</td>\n",
       "      <td>1034.20000</td>\n",
       "      <td>100.200000</td>\n",
       "      <td>7.610600</td>\n",
       "      <td>37.402000</td>\n",
       "      <td>1100.800000</td>\n",
       "      <td>550.610000</td>\n",
       "      <td>174.610000</td>\n",
       "      <td>15.081000</td>\n",
       "      <td>44.103000</td>\n",
       "      <td>119.890000</td>\n",
       "    </tr>\n",
       "  </tbody>\n",
       "</table>\n",
       "</div>"
      ],
      "text/plain": [
       "                 AT           AP            AH          AFDP          GTEP  \\\n",
       "count  15039.000000  15039.00000  15039.000000  15039.000000  15039.000000   \n",
       "mean      17.764381   1013.19924     79.124174      4.200294     25.419061   \n",
       "std        7.574323      6.41076     13.793439      0.760197      4.173916   \n",
       "min        0.522300    985.85000     30.344000      2.087400     17.878000   \n",
       "25%       11.408000   1008.90000     69.750000      3.723900     23.294000   \n",
       "50%       18.186000   1012.80000     82.266000      4.186200     25.082000   \n",
       "75%       23.862500   1016.90000     90.043500      4.550900     27.184000   \n",
       "max       34.929000   1034.20000    100.200000      7.610600     37.402000   \n",
       "\n",
       "                TIT           TAT           TEY           CDP            CO  \\\n",
       "count  15039.000000  15039.000000  15039.000000  15039.000000  15039.000000   \n",
       "mean    1083.798770    545.396183    134.188464     12.102353      1.972499   \n",
       "std       16.527806      7.866803     15.829717      1.103196      2.222206   \n",
       "min     1000.800000    512.450000    100.170000      9.904400      0.000388   \n",
       "25%     1079.600000    542.170000    127.985000     11.622000      0.858055   \n",
       "50%     1088.700000    549.890000    133.780000     12.025000      1.390200   \n",
       "75%     1096.000000    550.060000    140.895000     12.578000      2.160400   \n",
       "max     1100.800000    550.610000    174.610000     15.081000     44.103000   \n",
       "\n",
       "                NOX  \n",
       "count  15039.000000  \n",
       "mean      68.190934  \n",
       "std       10.470586  \n",
       "min       27.765000  \n",
       "25%       61.303500  \n",
       "50%       66.601000  \n",
       "75%       73.935500  \n",
       "max      119.890000  "
      ]
     },
     "execution_count": 7,
     "metadata": {},
     "output_type": "execute_result"
    }
   ],
   "source": [
    "df.describe()"
   ]
  },
  {
   "cell_type": "code",
   "execution_count": 8,
   "id": "571e3532",
   "metadata": {
    "ExecuteTime": {
     "end_time": "2023-03-16T08:31:18.541043Z",
     "start_time": "2023-03-16T08:31:18.534864Z"
    }
   },
   "outputs": [
    {
     "data": {
      "text/plain": [
       "Index(['AT', 'AP', 'AH', 'AFDP', 'GTEP', 'TIT', 'TAT', 'TEY', 'CDP', 'CO',\n",
       "       'NOX'],\n",
       "      dtype='object')"
      ]
     },
     "execution_count": 8,
     "metadata": {},
     "output_type": "execute_result"
    }
   ],
   "source": [
    "x=df.columns\n",
    "x "
   ]
  },
  {
   "cell_type": "code",
   "execution_count": 9,
   "id": "840928f1",
   "metadata": {
    "ExecuteTime": {
     "end_time": "2023-03-16T08:31:29.836590Z",
     "start_time": "2023-03-16T08:31:29.815330Z"
    }
   },
   "outputs": [
    {
     "data": {
      "text/plain": [
       "array([[-1.4397781 , -0.82664395,  1.28143632, ..., -1.35733078,\n",
       "         0.53201195,  1.3878449 ],\n",
       "       [-1.44960109, -0.74864748,  1.30456402, ..., -1.36367619,\n",
       "         0.56873344,  1.39300237],\n",
       "       [-1.43472138, -0.68625031,  1.21908576, ..., -1.36095673,\n",
       "         0.5529378 ,  1.36358566],\n",
       "       ...,\n",
       "       [-1.38626659, -1.07623263,  1.47697056, ..., -1.46792219,\n",
       "         2.69592467,  2.17006209],\n",
       "       [-1.42042259, -0.99823616,  1.44159024, ..., -1.42259784,\n",
       "         1.9246834 ,  2.391165  ],\n",
       "       [-1.43073409, -0.93583899,  1.33465179, ..., -1.37727349,\n",
       "         1.35415028,  2.32153907]])"
      ]
     },
     "execution_count": 9,
     "metadata": {},
     "output_type": "execute_result"
    }
   ],
   "source": [
    "sc= StandardScaler()\n",
    "\n",
    "df=sc.fit_transform(df)\n",
    "df"
   ]
  },
  {
   "cell_type": "code",
   "execution_count": 10,
   "id": "f79034ec",
   "metadata": {
    "ExecuteTime": {
     "end_time": "2023-03-16T08:31:43.513997Z",
     "start_time": "2023-03-16T08:31:43.482376Z"
    }
   },
   "outputs": [
    {
     "data": {
      "text/html": [
       "<div>\n",
       "<style scoped>\n",
       "    .dataframe tbody tr th:only-of-type {\n",
       "        vertical-align: middle;\n",
       "    }\n",
       "\n",
       "    .dataframe tbody tr th {\n",
       "        vertical-align: top;\n",
       "    }\n",
       "\n",
       "    .dataframe thead th {\n",
       "        text-align: right;\n",
       "    }\n",
       "</style>\n",
       "<table border=\"1\" class=\"dataframe\">\n",
       "  <thead>\n",
       "    <tr style=\"text-align: right;\">\n",
       "      <th></th>\n",
       "      <th>AT</th>\n",
       "      <th>AP</th>\n",
       "      <th>AH</th>\n",
       "      <th>AFDP</th>\n",
       "      <th>GTEP</th>\n",
       "      <th>TIT</th>\n",
       "      <th>TAT</th>\n",
       "      <th>TEY</th>\n",
       "      <th>CDP</th>\n",
       "      <th>CO</th>\n",
       "      <th>NOX</th>\n",
       "    </tr>\n",
       "  </thead>\n",
       "  <tbody>\n",
       "    <tr>\n",
       "      <th>0</th>\n",
       "      <td>-1.439778</td>\n",
       "      <td>-0.826644</td>\n",
       "      <td>1.281436</td>\n",
       "      <td>-0.921232</td>\n",
       "      <td>-1.379101</td>\n",
       "      <td>-1.488376</td>\n",
       "      <td>0.585240</td>\n",
       "      <td>-1.231172</td>\n",
       "      <td>-1.357331</td>\n",
       "      <td>0.532012</td>\n",
       "      <td>1.387845</td>\n",
       "    </tr>\n",
       "    <tr>\n",
       "      <th>1</th>\n",
       "      <td>-1.449601</td>\n",
       "      <td>-0.748647</td>\n",
       "      <td>1.304564</td>\n",
       "      <td>-0.921495</td>\n",
       "      <td>-1.363528</td>\n",
       "      <td>-1.482325</td>\n",
       "      <td>0.585240</td>\n",
       "      <td>-1.229909</td>\n",
       "      <td>-1.363676</td>\n",
       "      <td>0.568733</td>\n",
       "      <td>1.393002</td>\n",
       "    </tr>\n",
       "    <tr>\n",
       "      <th>2</th>\n",
       "      <td>-1.434721</td>\n",
       "      <td>-0.686250</td>\n",
       "      <td>1.219086</td>\n",
       "      <td>-0.944385</td>\n",
       "      <td>-1.351309</td>\n",
       "      <td>-1.476275</td>\n",
       "      <td>0.568715</td>\n",
       "      <td>-1.230541</td>\n",
       "      <td>-1.360957</td>\n",
       "      <td>0.552938</td>\n",
       "      <td>1.363586</td>\n",
       "    </tr>\n",
       "    <tr>\n",
       "      <th>3</th>\n",
       "      <td>-1.413702</td>\n",
       "      <td>-0.623853</td>\n",
       "      <td>1.169060</td>\n",
       "      <td>-0.946884</td>\n",
       "      <td>-1.348194</td>\n",
       "      <td>-1.464173</td>\n",
       "      <td>0.583969</td>\n",
       "      <td>-1.229909</td>\n",
       "      <td>-1.356424</td>\n",
       "      <td>0.548933</td>\n",
       "      <td>1.382878</td>\n",
       "    </tr>\n",
       "    <tr>\n",
       "      <th>4</th>\n",
       "      <td>-1.368693</td>\n",
       "      <td>-0.545857</td>\n",
       "      <td>1.161883</td>\n",
       "      <td>-0.924389</td>\n",
       "      <td>-1.354663</td>\n",
       "      <td>-1.458123</td>\n",
       "      <td>0.582698</td>\n",
       "      <td>-1.229909</td>\n",
       "      <td>-1.350985</td>\n",
       "      <td>0.574179</td>\n",
       "      <td>1.348591</td>\n",
       "    </tr>\n",
       "    <tr>\n",
       "      <th>...</th>\n",
       "      <td>...</td>\n",
       "      <td>...</td>\n",
       "      <td>...</td>\n",
       "      <td>...</td>\n",
       "      <td>...</td>\n",
       "      <td>...</td>\n",
       "      <td>...</td>\n",
       "      <td>...</td>\n",
       "      <td>...</td>\n",
       "      <td>...</td>\n",
       "      <td>...</td>\n",
       "    </tr>\n",
       "    <tr>\n",
       "      <th>15034</th>\n",
       "      <td>-1.153182</td>\n",
       "      <td>-1.185428</td>\n",
       "      <td>1.401860</td>\n",
       "      <td>-0.865850</td>\n",
       "      <td>-1.498657</td>\n",
       "      <td>-2.063184</td>\n",
       "      <td>0.103453</td>\n",
       "      <td>-1.426381</td>\n",
       "      <td>-1.543161</td>\n",
       "      <td>1.145792</td>\n",
       "      <td>1.085751</td>\n",
       "    </tr>\n",
       "    <tr>\n",
       "      <th>15035</th>\n",
       "      <td>-1.303986</td>\n",
       "      <td>-1.138630</td>\n",
       "      <td>1.447753</td>\n",
       "      <td>-0.913470</td>\n",
       "      <td>-1.438759</td>\n",
       "      <td>-2.268905</td>\n",
       "      <td>-0.276638</td>\n",
       "      <td>-1.415642</td>\n",
       "      <td>-1.513247</td>\n",
       "      <td>1.293578</td>\n",
       "      <td>1.119943</td>\n",
       "    </tr>\n",
       "    <tr>\n",
       "      <th>15036</th>\n",
       "      <td>-1.386267</td>\n",
       "      <td>-1.076233</td>\n",
       "      <td>1.476971</td>\n",
       "      <td>-0.951488</td>\n",
       "      <td>-1.410967</td>\n",
       "      <td>-2.789257</td>\n",
       "      <td>-1.026650</td>\n",
       "      <td>-1.516089</td>\n",
       "      <td>-1.467922</td>\n",
       "      <td>2.695925</td>\n",
       "      <td>2.170062</td>\n",
       "    </tr>\n",
       "    <tr>\n",
       "      <th>15037</th>\n",
       "      <td>-1.420423</td>\n",
       "      <td>-0.998236</td>\n",
       "      <td>1.441590</td>\n",
       "      <td>-0.988848</td>\n",
       "      <td>-1.447624</td>\n",
       "      <td>-2.456474</td>\n",
       "      <td>-0.528337</td>\n",
       "      <td>-1.481343</td>\n",
       "      <td>-1.422598</td>\n",
       "      <td>1.924683</td>\n",
       "      <td>2.391165</td>\n",
       "    </tr>\n",
       "    <tr>\n",
       "      <th>15038</th>\n",
       "      <td>-1.430734</td>\n",
       "      <td>-0.935839</td>\n",
       "      <td>1.334652</td>\n",
       "      <td>-1.016605</td>\n",
       "      <td>-1.464635</td>\n",
       "      <td>-2.051083</td>\n",
       "      <td>0.057689</td>\n",
       "      <td>-1.428277</td>\n",
       "      <td>-1.377273</td>\n",
       "      <td>1.354150</td>\n",
       "      <td>2.321539</td>\n",
       "    </tr>\n",
       "  </tbody>\n",
       "</table>\n",
       "<p>15039 rows × 11 columns</p>\n",
       "</div>"
      ],
      "text/plain": [
       "             AT        AP        AH      AFDP      GTEP       TIT       TAT  \\\n",
       "0     -1.439778 -0.826644  1.281436 -0.921232 -1.379101 -1.488376  0.585240   \n",
       "1     -1.449601 -0.748647  1.304564 -0.921495 -1.363528 -1.482325  0.585240   \n",
       "2     -1.434721 -0.686250  1.219086 -0.944385 -1.351309 -1.476275  0.568715   \n",
       "3     -1.413702 -0.623853  1.169060 -0.946884 -1.348194 -1.464173  0.583969   \n",
       "4     -1.368693 -0.545857  1.161883 -0.924389 -1.354663 -1.458123  0.582698   \n",
       "...         ...       ...       ...       ...       ...       ...       ...   \n",
       "15034 -1.153182 -1.185428  1.401860 -0.865850 -1.498657 -2.063184  0.103453   \n",
       "15035 -1.303986 -1.138630  1.447753 -0.913470 -1.438759 -2.268905 -0.276638   \n",
       "15036 -1.386267 -1.076233  1.476971 -0.951488 -1.410967 -2.789257 -1.026650   \n",
       "15037 -1.420423 -0.998236  1.441590 -0.988848 -1.447624 -2.456474 -0.528337   \n",
       "15038 -1.430734 -0.935839  1.334652 -1.016605 -1.464635 -2.051083  0.057689   \n",
       "\n",
       "            TEY       CDP        CO       NOX  \n",
       "0     -1.231172 -1.357331  0.532012  1.387845  \n",
       "1     -1.229909 -1.363676  0.568733  1.393002  \n",
       "2     -1.230541 -1.360957  0.552938  1.363586  \n",
       "3     -1.229909 -1.356424  0.548933  1.382878  \n",
       "4     -1.229909 -1.350985  0.574179  1.348591  \n",
       "...         ...       ...       ...       ...  \n",
       "15034 -1.426381 -1.543161  1.145792  1.085751  \n",
       "15035 -1.415642 -1.513247  1.293578  1.119943  \n",
       "15036 -1.516089 -1.467922  2.695925  2.170062  \n",
       "15037 -1.481343 -1.422598  1.924683  2.391165  \n",
       "15038 -1.428277 -1.377273  1.354150  2.321539  \n",
       "\n",
       "[15039 rows x 11 columns]"
      ]
     },
     "execution_count": 10,
     "metadata": {},
     "output_type": "execute_result"
    }
   ],
   "source": [
    "df=pd.DataFrame(data=df, columns=x)\n",
    "df "
   ]
  },
  {
   "cell_type": "code",
   "execution_count": 11,
   "id": "0d5a6cbd",
   "metadata": {
    "ExecuteTime": {
     "end_time": "2023-03-16T08:31:56.264632Z",
     "start_time": "2023-03-16T08:31:56.254878Z"
    }
   },
   "outputs": [],
   "source": [
    "x=df.iloc[:,[0,1,2,3,4,5,6,8,9,10]]\n",
    "y=df['TEY']"
   ]
  },
  {
   "cell_type": "code",
   "execution_count": 12,
   "id": "4408feb5",
   "metadata": {
    "ExecuteTime": {
     "end_time": "2023-03-16T08:31:59.437911Z",
     "start_time": "2023-03-16T08:31:59.402519Z"
    }
   },
   "outputs": [
    {
     "data": {
      "text/html": [
       "<div>\n",
       "<style scoped>\n",
       "    .dataframe tbody tr th:only-of-type {\n",
       "        vertical-align: middle;\n",
       "    }\n",
       "\n",
       "    .dataframe tbody tr th {\n",
       "        vertical-align: top;\n",
       "    }\n",
       "\n",
       "    .dataframe thead th {\n",
       "        text-align: right;\n",
       "    }\n",
       "</style>\n",
       "<table border=\"1\" class=\"dataframe\">\n",
       "  <thead>\n",
       "    <tr style=\"text-align: right;\">\n",
       "      <th></th>\n",
       "      <th>AT</th>\n",
       "      <th>AP</th>\n",
       "      <th>AH</th>\n",
       "      <th>AFDP</th>\n",
       "      <th>GTEP</th>\n",
       "      <th>TIT</th>\n",
       "      <th>TAT</th>\n",
       "      <th>CDP</th>\n",
       "      <th>CO</th>\n",
       "      <th>NOX</th>\n",
       "    </tr>\n",
       "  </thead>\n",
       "  <tbody>\n",
       "    <tr>\n",
       "      <th>0</th>\n",
       "      <td>-1.439778</td>\n",
       "      <td>-0.826644</td>\n",
       "      <td>1.281436</td>\n",
       "      <td>-0.921232</td>\n",
       "      <td>-1.379101</td>\n",
       "      <td>-1.488376</td>\n",
       "      <td>0.585240</td>\n",
       "      <td>-1.357331</td>\n",
       "      <td>0.532012</td>\n",
       "      <td>1.387845</td>\n",
       "    </tr>\n",
       "    <tr>\n",
       "      <th>1</th>\n",
       "      <td>-1.449601</td>\n",
       "      <td>-0.748647</td>\n",
       "      <td>1.304564</td>\n",
       "      <td>-0.921495</td>\n",
       "      <td>-1.363528</td>\n",
       "      <td>-1.482325</td>\n",
       "      <td>0.585240</td>\n",
       "      <td>-1.363676</td>\n",
       "      <td>0.568733</td>\n",
       "      <td>1.393002</td>\n",
       "    </tr>\n",
       "    <tr>\n",
       "      <th>2</th>\n",
       "      <td>-1.434721</td>\n",
       "      <td>-0.686250</td>\n",
       "      <td>1.219086</td>\n",
       "      <td>-0.944385</td>\n",
       "      <td>-1.351309</td>\n",
       "      <td>-1.476275</td>\n",
       "      <td>0.568715</td>\n",
       "      <td>-1.360957</td>\n",
       "      <td>0.552938</td>\n",
       "      <td>1.363586</td>\n",
       "    </tr>\n",
       "    <tr>\n",
       "      <th>3</th>\n",
       "      <td>-1.413702</td>\n",
       "      <td>-0.623853</td>\n",
       "      <td>1.169060</td>\n",
       "      <td>-0.946884</td>\n",
       "      <td>-1.348194</td>\n",
       "      <td>-1.464173</td>\n",
       "      <td>0.583969</td>\n",
       "      <td>-1.356424</td>\n",
       "      <td>0.548933</td>\n",
       "      <td>1.382878</td>\n",
       "    </tr>\n",
       "    <tr>\n",
       "      <th>4</th>\n",
       "      <td>-1.368693</td>\n",
       "      <td>-0.545857</td>\n",
       "      <td>1.161883</td>\n",
       "      <td>-0.924389</td>\n",
       "      <td>-1.354663</td>\n",
       "      <td>-1.458123</td>\n",
       "      <td>0.582698</td>\n",
       "      <td>-1.350985</td>\n",
       "      <td>0.574179</td>\n",
       "      <td>1.348591</td>\n",
       "    </tr>\n",
       "    <tr>\n",
       "      <th>...</th>\n",
       "      <td>...</td>\n",
       "      <td>...</td>\n",
       "      <td>...</td>\n",
       "      <td>...</td>\n",
       "      <td>...</td>\n",
       "      <td>...</td>\n",
       "      <td>...</td>\n",
       "      <td>...</td>\n",
       "      <td>...</td>\n",
       "      <td>...</td>\n",
       "    </tr>\n",
       "    <tr>\n",
       "      <th>15034</th>\n",
       "      <td>-1.153182</td>\n",
       "      <td>-1.185428</td>\n",
       "      <td>1.401860</td>\n",
       "      <td>-0.865850</td>\n",
       "      <td>-1.498657</td>\n",
       "      <td>-2.063184</td>\n",
       "      <td>0.103453</td>\n",
       "      <td>-1.543161</td>\n",
       "      <td>1.145792</td>\n",
       "      <td>1.085751</td>\n",
       "    </tr>\n",
       "    <tr>\n",
       "      <th>15035</th>\n",
       "      <td>-1.303986</td>\n",
       "      <td>-1.138630</td>\n",
       "      <td>1.447753</td>\n",
       "      <td>-0.913470</td>\n",
       "      <td>-1.438759</td>\n",
       "      <td>-2.268905</td>\n",
       "      <td>-0.276638</td>\n",
       "      <td>-1.513247</td>\n",
       "      <td>1.293578</td>\n",
       "      <td>1.119943</td>\n",
       "    </tr>\n",
       "    <tr>\n",
       "      <th>15036</th>\n",
       "      <td>-1.386267</td>\n",
       "      <td>-1.076233</td>\n",
       "      <td>1.476971</td>\n",
       "      <td>-0.951488</td>\n",
       "      <td>-1.410967</td>\n",
       "      <td>-2.789257</td>\n",
       "      <td>-1.026650</td>\n",
       "      <td>-1.467922</td>\n",
       "      <td>2.695925</td>\n",
       "      <td>2.170062</td>\n",
       "    </tr>\n",
       "    <tr>\n",
       "      <th>15037</th>\n",
       "      <td>-1.420423</td>\n",
       "      <td>-0.998236</td>\n",
       "      <td>1.441590</td>\n",
       "      <td>-0.988848</td>\n",
       "      <td>-1.447624</td>\n",
       "      <td>-2.456474</td>\n",
       "      <td>-0.528337</td>\n",
       "      <td>-1.422598</td>\n",
       "      <td>1.924683</td>\n",
       "      <td>2.391165</td>\n",
       "    </tr>\n",
       "    <tr>\n",
       "      <th>15038</th>\n",
       "      <td>-1.430734</td>\n",
       "      <td>-0.935839</td>\n",
       "      <td>1.334652</td>\n",
       "      <td>-1.016605</td>\n",
       "      <td>-1.464635</td>\n",
       "      <td>-2.051083</td>\n",
       "      <td>0.057689</td>\n",
       "      <td>-1.377273</td>\n",
       "      <td>1.354150</td>\n",
       "      <td>2.321539</td>\n",
       "    </tr>\n",
       "  </tbody>\n",
       "</table>\n",
       "<p>15039 rows × 10 columns</p>\n",
       "</div>"
      ],
      "text/plain": [
       "             AT        AP        AH      AFDP      GTEP       TIT       TAT  \\\n",
       "0     -1.439778 -0.826644  1.281436 -0.921232 -1.379101 -1.488376  0.585240   \n",
       "1     -1.449601 -0.748647  1.304564 -0.921495 -1.363528 -1.482325  0.585240   \n",
       "2     -1.434721 -0.686250  1.219086 -0.944385 -1.351309 -1.476275  0.568715   \n",
       "3     -1.413702 -0.623853  1.169060 -0.946884 -1.348194 -1.464173  0.583969   \n",
       "4     -1.368693 -0.545857  1.161883 -0.924389 -1.354663 -1.458123  0.582698   \n",
       "...         ...       ...       ...       ...       ...       ...       ...   \n",
       "15034 -1.153182 -1.185428  1.401860 -0.865850 -1.498657 -2.063184  0.103453   \n",
       "15035 -1.303986 -1.138630  1.447753 -0.913470 -1.438759 -2.268905 -0.276638   \n",
       "15036 -1.386267 -1.076233  1.476971 -0.951488 -1.410967 -2.789257 -1.026650   \n",
       "15037 -1.420423 -0.998236  1.441590 -0.988848 -1.447624 -2.456474 -0.528337   \n",
       "15038 -1.430734 -0.935839  1.334652 -1.016605 -1.464635 -2.051083  0.057689   \n",
       "\n",
       "            CDP        CO       NOX  \n",
       "0     -1.357331  0.532012  1.387845  \n",
       "1     -1.363676  0.568733  1.393002  \n",
       "2     -1.360957  0.552938  1.363586  \n",
       "3     -1.356424  0.548933  1.382878  \n",
       "4     -1.350985  0.574179  1.348591  \n",
       "...         ...       ...       ...  \n",
       "15034 -1.543161  1.145792  1.085751  \n",
       "15035 -1.513247  1.293578  1.119943  \n",
       "15036 -1.467922  2.695925  2.170062  \n",
       "15037 -1.422598  1.924683  2.391165  \n",
       "15038 -1.377273  1.354150  2.321539  \n",
       "\n",
       "[15039 rows x 10 columns]"
      ]
     },
     "execution_count": 12,
     "metadata": {},
     "output_type": "execute_result"
    }
   ],
   "source": [
    "x"
   ]
  },
  {
   "cell_type": "code",
   "execution_count": 13,
   "id": "d6ea3455",
   "metadata": {
    "ExecuteTime": {
     "end_time": "2023-03-16T08:32:05.454542Z",
     "start_time": "2023-03-16T08:32:05.444044Z"
    }
   },
   "outputs": [
    {
     "data": {
      "text/plain": [
       "0       -1.231172\n",
       "1       -1.229909\n",
       "2       -1.230541\n",
       "3       -1.229909\n",
       "4       -1.229909\n",
       "           ...   \n",
       "15034   -1.426381\n",
       "15035   -1.415642\n",
       "15036   -1.516089\n",
       "15037   -1.481343\n",
       "15038   -1.428277\n",
       "Name: TEY, Length: 15039, dtype: float64"
      ]
     },
     "execution_count": 13,
     "metadata": {},
     "output_type": "execute_result"
    }
   ],
   "source": [
    "y"
   ]
  },
  {
   "cell_type": "code",
   "execution_count": 14,
   "id": "dd9f9993",
   "metadata": {
    "ExecuteTime": {
     "end_time": "2023-03-16T08:32:20.996382Z",
     "start_time": "2023-03-16T08:32:20.983488Z"
    }
   },
   "outputs": [],
   "source": [
    "xtrain,xtest,ytrain,ytest = train_test_split(x,y,test_size=0.2, random_state=143)"
   ]
  },
  {
   "cell_type": "code",
   "execution_count": 15,
   "id": "ae60a05d",
   "metadata": {
    "ExecuteTime": {
     "end_time": "2023-03-16T08:32:31.791167Z",
     "start_time": "2023-03-16T08:32:31.778937Z"
    }
   },
   "outputs": [
    {
     "data": {
      "text/plain": [
       "13942   -0.066868\n",
       "9254    -0.059287\n",
       "3517    -0.126884\n",
       "2844    -0.026436\n",
       "9402    -0.088979\n",
       "           ...   \n",
       "1483    -0.172369\n",
       "8090    -0.033385\n",
       "13984   -1.381528\n",
       "12117    0.832736\n",
       "2069     1.307808\n",
       "Name: TEY, Length: 3008, dtype: float64"
      ]
     },
     "execution_count": 15,
     "metadata": {},
     "output_type": "execute_result"
    }
   ],
   "source": [
    "ytest"
   ]
  },
  {
   "cell_type": "code",
   "execution_count": 16,
   "id": "d0b3ae20",
   "metadata": {
    "ExecuteTime": {
     "end_time": "2023-03-16T08:33:52.352940Z",
     "start_time": "2023-03-16T08:32:44.566006Z"
    }
   },
   "outputs": [
    {
     "name": "stdout",
     "output_type": "stream",
     "text": [
      "Epoch 1/50\n",
      "376/376 [==============================] - 4s 5ms/step - loss: 0.3071 - val_loss: 0.0227\n",
      "Epoch 2/50\n",
      "376/376 [==============================] - 1s 3ms/step - loss: 0.0114 - val_loss: 0.0056\n",
      "Epoch 3/50\n",
      "376/376 [==============================] - 1s 3ms/step - loss: 0.0048 - val_loss: 0.0041\n",
      "Epoch 4/50\n",
      "376/376 [==============================] - 1s 3ms/step - loss: 0.0039 - val_loss: 0.0035\n",
      "Epoch 5/50\n",
      "376/376 [==============================] - 1s 3ms/step - loss: 0.0034 - val_loss: 0.0034\n",
      "Epoch 6/50\n",
      "376/376 [==============================] - 1s 3ms/step - loss: 0.0032 - val_loss: 0.0032\n",
      "Epoch 7/50\n",
      "376/376 [==============================] - 1s 3ms/step - loss: 0.0030 - val_loss: 0.0032\n",
      "Epoch 8/50\n",
      "376/376 [==============================] - 1s 3ms/step - loss: 0.0028 - val_loss: 0.0028\n",
      "Epoch 9/50\n",
      "376/376 [==============================] - 1s 3ms/step - loss: 0.0027 - val_loss: 0.0026\n",
      "Epoch 10/50\n",
      "376/376 [==============================] - 1s 3ms/step - loss: 0.0025 - val_loss: 0.0025\n",
      "Epoch 11/50\n",
      "376/376 [==============================] - 1s 3ms/step - loss: 0.0025 - val_loss: 0.0023\n",
      "Epoch 12/50\n",
      "376/376 [==============================] - 1s 3ms/step - loss: 0.0024 - val_loss: 0.0031\n",
      "Epoch 13/50\n",
      "376/376 [==============================] - 1s 3ms/step - loss: 0.0023 - val_loss: 0.0024\n",
      "Epoch 14/50\n",
      "376/376 [==============================] - 1s 3ms/step - loss: 0.0022 - val_loss: 0.0021\n",
      "Epoch 15/50\n",
      "376/376 [==============================] - 1s 3ms/step - loss: 0.0021 - val_loss: 0.0021\n",
      "Epoch 16/50\n",
      "376/376 [==============================] - 1s 3ms/step - loss: 0.0022 - val_loss: 0.0020\n",
      "Epoch 17/50\n",
      "376/376 [==============================] - 1s 3ms/step - loss: 0.0021 - val_loss: 0.0021\n",
      "Epoch 18/50\n",
      "376/376 [==============================] - 1s 3ms/step - loss: 0.0021 - val_loss: 0.0019\n",
      "Epoch 19/50\n",
      "376/376 [==============================] - 1s 3ms/step - loss: 0.0020 - val_loss: 0.0020\n",
      "Epoch 20/50\n",
      "376/376 [==============================] - 1s 3ms/step - loss: 0.0020 - val_loss: 0.0019\n",
      "Epoch 21/50\n",
      "376/376 [==============================] - 1s 3ms/step - loss: 0.0020 - val_loss: 0.0021\n",
      "Epoch 22/50\n",
      "376/376 [==============================] - 1s 4ms/step - loss: 0.0019 - val_loss: 0.0019\n",
      "Epoch 23/50\n",
      "376/376 [==============================] - 1s 3ms/step - loss: 0.0020 - val_loss: 0.0023\n",
      "Epoch 24/50\n",
      "376/376 [==============================] - 1s 3ms/step - loss: 0.0019 - val_loss: 0.0020\n",
      "Epoch 25/50\n",
      "376/376 [==============================] - 1s 3ms/step - loss: 0.0020 - val_loss: 0.0022\n",
      "Epoch 26/50\n",
      "376/376 [==============================] - 1s 3ms/step - loss: 0.0019 - val_loss: 0.0019\n",
      "Epoch 27/50\n",
      "376/376 [==============================] - 1s 3ms/step - loss: 0.0018 - val_loss: 0.0018\n",
      "Epoch 28/50\n",
      "376/376 [==============================] - 1s 3ms/step - loss: 0.0019 - val_loss: 0.0033\n",
      "Epoch 29/50\n",
      "376/376 [==============================] - 1s 3ms/step - loss: 0.0019 - val_loss: 0.0018\n",
      "Epoch 30/50\n",
      "376/376 [==============================] - 1s 3ms/step - loss: 0.0019 - val_loss: 0.0020\n",
      "Epoch 31/50\n",
      "376/376 [==============================] - 1s 3ms/step - loss: 0.0018 - val_loss: 0.0018\n",
      "Epoch 32/50\n",
      "376/376 [==============================] - 1s 3ms/step - loss: 0.0018 - val_loss: 0.0018\n",
      "Epoch 33/50\n",
      "376/376 [==============================] - 1s 3ms/step - loss: 0.0018 - val_loss: 0.0017\n",
      "Epoch 34/50\n",
      "376/376 [==============================] - 1s 3ms/step - loss: 0.0018 - val_loss: 0.0020\n",
      "Epoch 35/50\n",
      "376/376 [==============================] - 1s 3ms/step - loss: 0.0018 - val_loss: 0.0018\n",
      "Epoch 36/50\n",
      "376/376 [==============================] - 1s 3ms/step - loss: 0.0017 - val_loss: 0.0017\n",
      "Epoch 37/50\n",
      "376/376 [==============================] - 1s 3ms/step - loss: 0.0018 - val_loss: 0.0018\n",
      "Epoch 38/50\n",
      "376/376 [==============================] - 1s 3ms/step - loss: 0.0018 - val_loss: 0.0018\n",
      "Epoch 39/50\n",
      "376/376 [==============================] - 1s 3ms/step - loss: 0.0017 - val_loss: 0.0016\n",
      "Epoch 40/50\n",
      "376/376 [==============================] - 1s 3ms/step - loss: 0.0017 - val_loss: 0.0017\n",
      "Epoch 41/50\n",
      "376/376 [==============================] - 1s 3ms/step - loss: 0.0018 - val_loss: 0.0018\n",
      "Epoch 42/50\n",
      "376/376 [==============================] - 1s 3ms/step - loss: 0.0017 - val_loss: 0.0017\n",
      "Epoch 43/50\n",
      "376/376 [==============================] - 1s 3ms/step - loss: 0.0018 - val_loss: 0.0017\n",
      "Epoch 44/50\n",
      "376/376 [==============================] - 1s 3ms/step - loss: 0.0017 - val_loss: 0.0019\n",
      "Epoch 45/50\n",
      "376/376 [==============================] - 1s 4ms/step - loss: 0.0017 - val_loss: 0.0016\n",
      "Epoch 46/50\n",
      "376/376 [==============================] - 1s 4ms/step - loss: 0.0017 - val_loss: 0.0016\n",
      "Epoch 47/50\n",
      "376/376 [==============================] - 1s 4ms/step - loss: 0.0017 - val_loss: 0.0017\n",
      "Epoch 48/50\n",
      "376/376 [==============================] - 1s 4ms/step - loss: 0.0017 - val_loss: 0.0019\n",
      "Epoch 49/50\n",
      "376/376 [==============================] - 2s 4ms/step - loss: 0.0017 - val_loss: 0.0026\n",
      "Epoch 50/50\n",
      "376/376 [==============================] - 1s 4ms/step - loss: 0.0017 - val_loss: 0.0020\n"
     ]
    },
    {
     "data": {
      "text/plain": [
       "<keras.callbacks.History at 0x1dc77db10a0>"
      ]
     },
     "execution_count": 16,
     "metadata": {},
     "output_type": "execute_result"
    }
   ],
   "source": [
    "#Initialize ann model\n",
    "ann = Sequential()\n",
    "\n",
    "#Add hidden layers\n",
    "ann.add(Dense(units=30, activation='sigmoid'))\n",
    "ann.add(Dense(units=20, activation='relu'))\n",
    "\n",
    "#Add output layer\n",
    "ann.add(Dense(units=1))\n",
    "\n",
    "#Establish the connection between layers\n",
    "ann.compile(optimizer='adam',loss='mean_squared_error')\n",
    "\n",
    "#Fit the data \n",
    "ann.fit(xtrain,ytrain,validation_data=(xtest,ytest),epochs=50)"
   ]
  },
  {
   "cell_type": "code",
   "execution_count": 17,
   "id": "bfa35d07",
   "metadata": {
    "ExecuteTime": {
     "end_time": "2023-03-16T08:34:03.094088Z",
     "start_time": "2023-03-16T08:34:02.696749Z"
    }
   },
   "outputs": [
    {
     "data": {
      "text/plain": [
       "<AxesSubplot:>"
      ]
     },
     "execution_count": 17,
     "metadata": {},
     "output_type": "execute_result"
    },
    {
     "data": {
      "image/png": "[encoded data removed]",
      "text/plain": [
       "<Figure size 432x288 with 1 Axes>"
      ]
     },
     "metadata": {
      "needs_background": "light"
     },
     "output_type": "display_data"
    }
   ],
   "source": [
    "loss = pd.DataFrame(ann.history.history)\n",
    "loss.plot()"
   ]
  },
  {
   "cell_type": "code",
   "execution_count": 18,
   "id": "d5d1ca0f",
   "metadata": {
    "ExecuteTime": {
     "end_time": "2023-03-16T08:34:16.540768Z",
     "start_time": "2023-03-16T08:34:15.864868Z"
    }
   },
   "outputs": [
    {
     "name": "stdout",
     "output_type": "stream",
     "text": [
      "94/94 [==============================] - 0s 2ms/step\n"
     ]
    },
    {
     "data": {
      "text/plain": [
       "array([[-0.02256738],\n",
       "       [-0.09721731],\n",
       "       [-0.12857871],\n",
       "       ...,\n",
       "       [-1.3805825 ],\n",
       "       [ 0.847419  ],\n",
       "       [ 1.2527649 ]], dtype=float32)"
      ]
     },
     "execution_count": 18,
     "metadata": {},
     "output_type": "execute_result"
    }
   ],
   "source": [
    "ypred = ann.predict(xtest)\n",
    "ypred"
   ]
  },
  {
   "cell_type": "code",
   "execution_count": 19,
   "id": "c711221f",
   "metadata": {
    "ExecuteTime": {
     "end_time": "2023-03-16T08:34:28.271802Z",
     "start_time": "2023-03-16T08:34:28.265853Z"
    }
   },
   "outputs": [],
   "source": [
    "from tensorflow.keras.layers import Dropout\n",
    "from tensorflow.keras.callbacks import EarlyStopping"
   ]
  },
  {
   "cell_type": "code",
   "execution_count": 20,
   "id": "650074c3",
   "metadata": {
    "ExecuteTime": {
     "end_time": "2023-03-16T08:35:43.869977Z",
     "start_time": "2023-03-16T08:34:43.132591Z"
    }
   },
   "outputs": [
    {
     "name": "stdout",
     "output_type": "stream",
     "text": [
      "Epoch 1/45\n",
      "376/376 [==============================] - 4s 4ms/step - loss: 0.2023 - val_loss: 0.1395\n",
      "Epoch 2/45\n",
      "376/376 [==============================] - 1s 3ms/step - loss: 0.1388 - val_loss: 0.1356\n",
      "Epoch 3/45\n",
      "376/376 [==============================] - 1s 3ms/step - loss: 0.1367 - val_loss: 0.1343\n",
      "Epoch 4/45\n",
      "376/376 [==============================] - 1s 3ms/step - loss: 0.1357 - val_loss: 0.1334\n",
      "Epoch 5/45\n",
      "376/376 [==============================] - 1s 3ms/step - loss: 0.1352 - val_loss: 0.1330\n",
      "Epoch 6/45\n",
      "376/376 [==============================] - 1s 4ms/step - loss: 0.1348 - val_loss: 0.1326\n",
      "Epoch 7/45\n",
      "376/376 [==============================] - 1s 3ms/step - loss: 0.1345 - val_loss: 0.1323\n",
      "Epoch 8/45\n",
      "376/376 [==============================] - 1s 3ms/step - loss: 0.1342 - val_loss: 0.1321\n",
      "Epoch 9/45\n",
      "376/376 [==============================] - 1s 3ms/step - loss: 0.1340 - val_loss: 0.1319\n",
      "Epoch 10/45\n",
      "376/376 [==============================] - 1s 3ms/step - loss: 0.1339 - val_loss: 0.1318\n",
      "Epoch 11/45\n",
      "376/376 [==============================] - 1s 4ms/step - loss: 0.1337 - val_loss: 0.1315\n",
      "Epoch 12/45\n",
      "376/376 [==============================] - 1s 4ms/step - loss: 0.1336 - val_loss: 0.1314\n",
      "Epoch 13/45\n",
      "376/376 [==============================] - 1s 3ms/step - loss: 0.1335 - val_loss: 0.1312\n",
      "Epoch 14/45\n",
      "376/376 [==============================] - 1s 3ms/step - loss: 0.1333 - val_loss: 0.1313\n",
      "Epoch 15/45\n",
      "376/376 [==============================] - 1s 3ms/step - loss: 0.1334 - val_loss: 0.1314\n",
      "Epoch 16/45\n",
      "376/376 [==============================] - 1s 3ms/step - loss: 0.1332 - val_loss: 0.1309\n",
      "Epoch 17/45\n",
      "376/376 [==============================] - 1s 3ms/step - loss: 0.1331 - val_loss: 0.1309\n",
      "Epoch 18/45\n",
      "376/376 [==============================] - 1s 3ms/step - loss: 0.1331 - val_loss: 0.1308\n",
      "Epoch 19/45\n",
      "376/376 [==============================] - 1s 3ms/step - loss: 0.1330 - val_loss: 0.1311\n",
      "Epoch 20/45\n",
      "376/376 [==============================] - 1s 3ms/step - loss: 0.1329 - val_loss: 0.1307\n",
      "Epoch 21/45\n",
      "376/376 [==============================] - 1s 3ms/step - loss: 0.1329 - val_loss: 0.1306\n",
      "Epoch 22/45\n",
      "376/376 [==============================] - 1s 3ms/step - loss: 0.1329 - val_loss: 0.1306\n",
      "Epoch 23/45\n",
      "376/376 [==============================] - 1s 3ms/step - loss: 0.1328 - val_loss: 0.1306\n",
      "Epoch 24/45\n",
      "376/376 [==============================] - 1s 3ms/step - loss: 0.1328 - val_loss: 0.1305\n",
      "Epoch 25/45\n",
      "376/376 [==============================] - 1s 3ms/step - loss: 0.1328 - val_loss: 0.1306\n",
      "Epoch 26/45\n",
      "376/376 [==============================] - 1s 3ms/step - loss: 0.1327 - val_loss: 0.1306\n",
      "Epoch 27/45\n",
      "376/376 [==============================] - 1s 3ms/step - loss: 0.1327 - val_loss: 0.1305\n",
      "Epoch 28/45\n",
      "376/376 [==============================] - 1s 3ms/step - loss: 0.1327 - val_loss: 0.1306\n",
      "Epoch 29/45\n",
      "376/376 [==============================] - 1s 3ms/step - loss: 0.1327 - val_loss: 0.1305\n",
      "Epoch 30/45\n",
      "376/376 [==============================] - 1s 3ms/step - loss: 0.1327 - val_loss: 0.1305\n",
      "Epoch 31/45\n",
      "376/376 [==============================] - 1s 4ms/step - loss: 0.1327 - val_loss: 0.1304\n",
      "Epoch 32/45\n",
      "376/376 [==============================] - 1s 3ms/step - loss: 0.1326 - val_loss: 0.1304\n",
      "Epoch 33/45\n",
      "376/376 [==============================] - 1s 3ms/step - loss: 0.1326 - val_loss: 0.1304\n",
      "Epoch 34/45\n",
      "376/376 [==============================] - 1s 3ms/step - loss: 0.1326 - val_loss: 0.1305\n",
      "Epoch 35/45\n",
      "376/376 [==============================] - 1s 3ms/step - loss: 0.1325 - val_loss: 0.1304\n",
      "Epoch 36/45\n",
      "376/376 [==============================] - 1s 3ms/step - loss: 0.1325 - val_loss: 0.1303\n",
      "Epoch 37/45\n",
      "376/376 [==============================] - 1s 3ms/step - loss: 0.1326 - val_loss: 0.1304\n",
      "Epoch 38/45\n",
      "376/376 [==============================] - 1s 3ms/step - loss: 0.1325 - val_loss: 0.1304\n",
      "Epoch 39/45\n",
      "376/376 [==============================] - 1s 3ms/step - loss: 0.1325 - val_loss: 0.1304\n",
      "Epoch 40/45\n",
      "376/376 [==============================] - 1s 3ms/step - loss: 0.1325 - val_loss: 0.1304\n",
      "Epoch 41/45\n",
      "376/376 [==============================] - 1s 3ms/step - loss: 0.1325 - val_loss: 0.1304\n",
      "Epoch 42/45\n",
      "376/376 [==============================] - 1s 3ms/step - loss: 0.1325 - val_loss: 0.1304\n",
      "Epoch 43/45\n",
      "376/376 [==============================] - 1s 3ms/step - loss: 0.1325 - val_loss: 0.1304\n",
      "Epoch 44/45\n",
      "376/376 [==============================] - 1s 3ms/step - loss: 0.1325 - val_loss: 0.1304\n",
      "Epoch 45/45\n",
      "376/376 [==============================] - 1s 3ms/step - loss: 0.1325 - val_loss: 0.1303\n"
     ]
    },
    {
     "data": {
      "text/plain": [
       "<keras.callbacks.History at 0x1dc7d246970>"
      ]
     },
     "execution_count": 20,
     "metadata": {},
     "output_type": "execute_result"
    }
   ],
   "source": [
    "ann =Sequential()\n",
    "\n",
    "ann.add(Dense(units=30, activation='relu'))\n",
    "ann.add(Dense(units=20, activation='relu'))\n",
    "\n",
    "ann.add(Dense(units=1, activation='tanh'))\n",
    "\n",
    "ann.compile(optimizer='adam', loss='mse')\n",
    "\n",
    "ann.fit(xtrain,ytrain, validation_data=(xtest,ytest), epochs=45)"
   ]
  },
  {
   "cell_type": "code",
   "execution_count": 21,
   "id": "f595c891",
   "metadata": {
    "ExecuteTime": {
     "end_time": "2023-03-16T08:36:06.635510Z",
     "start_time": "2023-03-16T08:36:06.342140Z"
    }
   },
   "outputs": [
    {
     "data": {
      "text/plain": [
       "<AxesSubplot:>"
      ]
     },
     "execution_count": 21,
     "metadata": {},
     "output_type": "execute_result"
    },
    {
     "data": {
      "image/png": "[encoded data removed]",
      "text/plain": [
       "<Figure size 432x288 with 1 Axes>"
      ]
     },
     "metadata": {
      "needs_background": "light"
     },
     "output_type": "display_data"
    }
   ],
   "source": [
    "val_loss = pd.DataFrame(ann.history.history)\n",
    "\n",
    "val_loss.plot()"
   ]
  },
  {
   "cell_type": "markdown",
   "id": "6d0ff538",
   "metadata": {},
   "source": [
    "# Early Stopping"
   ]
  },
  {
   "cell_type": "code",
   "execution_count": 22,
   "id": "7a82dab6",
   "metadata": {
    "ExecuteTime": {
     "end_time": "2023-03-16T08:36:44.817653Z",
     "start_time": "2023-03-16T08:36:44.811655Z"
    }
   },
   "outputs": [],
   "source": [
    "early = EarlyStopping(monitor='val_loss',mode='min', patience=25)"
   ]
  },
  {
   "cell_type": "code",
   "execution_count": 23,
   "id": "547bebc2",
   "metadata": {
    "ExecuteTime": {
     "end_time": "2023-03-16T08:38:04.422015Z",
     "start_time": "2023-03-16T08:36:56.229149Z"
    }
   },
   "outputs": [
    {
     "name": "stdout",
     "output_type": "stream",
     "text": [
      "Epoch 1/50\n",
      "376/376 [==============================] - 4s 4ms/step - loss: 0.2865 - val_loss: 0.1428\n",
      "Epoch 2/50\n",
      "376/376 [==============================] - 1s 3ms/step - loss: 0.1404 - val_loss: 0.1362\n",
      "Epoch 3/50\n",
      "376/376 [==============================] - 1s 3ms/step - loss: 0.1374 - val_loss: 0.1347\n",
      "Epoch 4/50\n",
      "376/376 [==============================] - 1s 3ms/step - loss: 0.1363 - val_loss: 0.1339\n",
      "Epoch 5/50\n",
      "376/376 [==============================] - 1s 3ms/step - loss: 0.1356 - val_loss: 0.1333\n",
      "Epoch 6/50\n",
      "376/376 [==============================] - 1s 3ms/step - loss: 0.1352 - val_loss: 0.1328\n",
      "Epoch 7/50\n",
      "376/376 [==============================] - 1s 3ms/step - loss: 0.1347 - val_loss: 0.1324\n",
      "Epoch 8/50\n",
      "376/376 [==============================] - 1s 4ms/step - loss: 0.1345 - val_loss: 0.1323\n",
      "Epoch 9/50\n",
      "376/376 [==============================] - 1s 3ms/step - loss: 0.1343 - val_loss: 0.1318\n",
      "Epoch 10/50\n",
      "376/376 [==============================] - 1s 3ms/step - loss: 0.1339 - val_loss: 0.1317\n",
      "Epoch 11/50\n",
      "376/376 [==============================] - 1s 3ms/step - loss: 0.1338 - val_loss: 0.1315\n",
      "Epoch 12/50\n",
      "376/376 [==============================] - 1s 3ms/step - loss: 0.1336 - val_loss: 0.1313\n",
      "Epoch 13/50\n",
      "376/376 [==============================] - 1s 3ms/step - loss: 0.1335 - val_loss: 0.1312\n",
      "Epoch 14/50\n",
      "376/376 [==============================] - 1s 3ms/step - loss: 0.1334 - val_loss: 0.1311\n",
      "Epoch 15/50\n",
      "376/376 [==============================] - 1s 3ms/step - loss: 0.1333 - val_loss: 0.1310\n",
      "Epoch 16/50\n",
      "376/376 [==============================] - 1s 3ms/step - loss: 0.1331 - val_loss: 0.1309\n",
      "Epoch 17/50\n",
      "376/376 [==============================] - 1s 3ms/step - loss: 0.1331 - val_loss: 0.1309\n",
      "Epoch 18/50\n",
      "376/376 [==============================] - 1s 3ms/step - loss: 0.1329 - val_loss: 0.1308\n",
      "Epoch 19/50\n",
      "376/376 [==============================] - 1s 3ms/step - loss: 0.1330 - val_loss: 0.1308\n",
      "Epoch 20/50\n",
      "376/376 [==============================] - 1s 3ms/step - loss: 0.1329 - val_loss: 0.1307\n",
      "Epoch 21/50\n",
      "376/376 [==============================] - 1s 3ms/step - loss: 0.1331 - val_loss: 0.1306\n",
      "Epoch 22/50\n",
      "376/376 [==============================] - 1s 3ms/step - loss: 0.1328 - val_loss: 0.1306\n",
      "Epoch 23/50\n",
      "376/376 [==============================] - 1s 3ms/step - loss: 0.1328 - val_loss: 0.1307\n",
      "Epoch 24/50\n",
      "376/376 [==============================] - 1s 3ms/step - loss: 0.1327 - val_loss: 0.1306\n",
      "Epoch 25/50\n",
      "376/376 [==============================] - 1s 3ms/step - loss: 0.1327 - val_loss: 0.1306\n",
      "Epoch 26/50\n",
      "376/376 [==============================] - 1s 4ms/step - loss: 0.1327 - val_loss: 0.1305\n",
      "Epoch 27/50\n",
      "376/376 [==============================] - 1s 4ms/step - loss: 0.1327 - val_loss: 0.1305\n",
      "Epoch 28/50\n",
      "376/376 [==============================] - 1s 4ms/step - loss: 0.1327 - val_loss: 0.1305\n",
      "Epoch 29/50\n",
      "376/376 [==============================] - 2s 5ms/step - loss: 0.1326 - val_loss: 0.1305\n",
      "Epoch 30/50\n",
      "376/376 [==============================] - 1s 4ms/step - loss: 0.1326 - val_loss: 0.1304\n",
      "Epoch 31/50\n",
      "376/376 [==============================] - 1s 3ms/step - loss: 0.1326 - val_loss: 0.1304\n",
      "Epoch 32/50\n",
      "376/376 [==============================] - 1s 4ms/step - loss: 0.1326 - val_loss: 0.1305\n",
      "Epoch 33/50\n",
      "376/376 [==============================] - 1s 3ms/step - loss: 0.1326 - val_loss: 0.1304\n",
      "Epoch 34/50\n",
      "376/376 [==============================] - 1s 3ms/step - loss: 0.1325 - val_loss: 0.1305\n",
      "Epoch 35/50\n",
      "376/376 [==============================] - 1s 4ms/step - loss: 0.1325 - val_loss: 0.1304\n",
      "Epoch 36/50\n",
      "376/376 [==============================] - 1s 4ms/step - loss: 0.1325 - val_loss: 0.1305\n",
      "Epoch 37/50\n",
      "376/376 [==============================] - 1s 4ms/step - loss: 0.1325 - val_loss: 0.1304\n",
      "Epoch 38/50\n",
      "376/376 [==============================] - 1s 3ms/step - loss: 0.1325 - val_loss: 0.1304\n",
      "Epoch 39/50\n",
      "376/376 [==============================] - 1s 3ms/step - loss: 0.1324 - val_loss: 0.1304\n",
      "Epoch 40/50\n",
      "376/376 [==============================] - 1s 3ms/step - loss: 0.1325 - val_loss: 0.1303\n",
      "Epoch 41/50\n",
      "376/376 [==============================] - 1s 3ms/step - loss: 0.1324 - val_loss: 0.1303\n",
      "Epoch 42/50\n",
      "376/376 [==============================] - 1s 4ms/step - loss: 0.1324 - val_loss: 0.1303\n",
      "Epoch 43/50\n",
      "376/376 [==============================] - 1s 3ms/step - loss: 0.1324 - val_loss: 0.1303\n",
      "Epoch 44/50\n",
      "376/376 [==============================] - 1s 3ms/step - loss: 0.1325 - val_loss: 0.1304\n",
      "Epoch 45/50\n",
      "376/376 [==============================] - 1s 3ms/step - loss: 0.1324 - val_loss: 0.1304\n",
      "Epoch 46/50\n",
      "376/376 [==============================] - 1s 3ms/step - loss: 0.1324 - val_loss: 0.1304\n",
      "Epoch 47/50\n",
      "376/376 [==============================] - 1s 3ms/step - loss: 0.1324 - val_loss: 0.1303\n",
      "Epoch 48/50\n",
      "376/376 [==============================] - 1s 4ms/step - loss: 0.1324 - val_loss: 0.1303\n",
      "Epoch 49/50\n",
      "376/376 [==============================] - 1s 3ms/step - loss: 0.1324 - val_loss: 0.1303\n",
      "Epoch 50/50\n",
      "376/376 [==============================] - 1s 3ms/step - loss: 0.1324 - val_loss: 0.1303\n"
     ]
    },
    {
     "data": {
      "text/plain": [
       "<keras.callbacks.History at 0x1dc772cd220>"
      ]
     },
     "execution_count": 23,
     "metadata": {},
     "output_type": "execute_result"
    }
   ],
   "source": [
    "ann = Sequential()\n",
    "\n",
    "ann.add(Dense(units=30, activation='relu'))\n",
    "ann.add(Dense(units=20, activation='relu'))\n",
    "ann.add(Dense(units=1, activation='tanh'))\n",
    "ann.compile(optimizer='adam', loss = 'mse')\n",
    "\n",
    "ann.fit(xtrain,ytrain, validation_data=(xtest,ytest), callbacks=[early], epochs=50)"
   ]
  },
  {
   "cell_type": "code",
   "execution_count": 24,
   "id": "bea6ddb5",
   "metadata": {
    "ExecuteTime": {
     "end_time": "2023-03-16T08:38:07.348375Z",
     "start_time": "2023-03-16T08:38:07.046231Z"
    }
   },
   "outputs": [
    {
     "data": {
      "text/plain": [
       "<AxesSubplot:>"
      ]
     },
     "execution_count": 24,
     "metadata": {},
     "output_type": "execute_result"
    },
    {
     "data": {
      "image/png": "[encoded data removed]",
      "text/plain": [
       "<Figure size 432x288 with 1 Axes>"
      ]
     },
     "metadata": {
      "needs_background": "light"
     },
     "output_type": "display_data"
    }
   ],
   "source": [
    "early_loss = pd.DataFrame(ann.history.history)\n",
    "\n",
    "early_loss.plot()"
   ]
  },
  {
   "cell_type": "markdown",
   "id": "321f42fc",
   "metadata": {},
   "source": [
    "# Dropout Layer"
   ]
  },
  {
   "cell_type": "code",
   "execution_count": 25,
   "id": "40c71eb3",
   "metadata": {
    "ExecuteTime": {
     "end_time": "2023-03-16T08:39:53.373202Z",
     "start_time": "2023-03-16T08:38:39.860401Z"
    }
   },
   "outputs": [
    {
     "name": "stdout",
     "output_type": "stream",
     "text": [
      "Epoch 1/50\n",
      "376/376 [==============================] - 4s 5ms/step - loss: 0.3280 - val_loss: 0.1423\n",
      "Epoch 2/50\n",
      "376/376 [==============================] - 2s 5ms/step - loss: 0.1660 - val_loss: 0.1373\n",
      "Epoch 3/50\n",
      "376/376 [==============================] - 1s 4ms/step - loss: 0.1505 - val_loss: 0.1373\n",
      "Epoch 4/50\n",
      "376/376 [==============================] - 1s 4ms/step - loss: 0.1450 - val_loss: 0.1374\n",
      "Epoch 5/50\n",
      "376/376 [==============================] - 1s 4ms/step - loss: 0.1435 - val_loss: 0.1364\n",
      "Epoch 6/50\n",
      "376/376 [==============================] - 1s 4ms/step - loss: 0.1426 - val_loss: 0.1364\n",
      "Epoch 7/50\n",
      "376/376 [==============================] - 1s 4ms/step - loss: 0.1408 - val_loss: 0.1358\n",
      "Epoch 8/50\n",
      "376/376 [==============================] - 1s 4ms/step - loss: 0.1410 - val_loss: 0.1356\n",
      "Epoch 9/50\n",
      "376/376 [==============================] - 1s 4ms/step - loss: 0.1409 - val_loss: 0.1349\n",
      "Epoch 10/50\n",
      "376/376 [==============================] - 1s 4ms/step - loss: 0.1408 - val_loss: 0.1347\n",
      "Epoch 11/50\n",
      "376/376 [==============================] - 1s 4ms/step - loss: 0.1397 - val_loss: 0.1343\n",
      "Epoch 12/50\n",
      "376/376 [==============================] - 1s 4ms/step - loss: 0.1392 - val_loss: 0.1338\n",
      "Epoch 13/50\n",
      "376/376 [==============================] - 1s 4ms/step - loss: 0.1390 - val_loss: 0.1340\n",
      "Epoch 14/50\n",
      "376/376 [==============================] - 1s 4ms/step - loss: 0.1387 - val_loss: 0.1334\n",
      "Epoch 15/50\n",
      "376/376 [==============================] - 1s 4ms/step - loss: 0.1381 - val_loss: 0.1331\n",
      "Epoch 16/50\n",
      "376/376 [==============================] - 1s 4ms/step - loss: 0.1381 - val_loss: 0.1329\n",
      "Epoch 17/50\n",
      "376/376 [==============================] - 1s 4ms/step - loss: 0.1378 - val_loss: 0.1326\n",
      "Epoch 18/50\n",
      "376/376 [==============================] - 1s 4ms/step - loss: 0.1376 - val_loss: 0.1325\n",
      "Epoch 19/50\n",
      "376/376 [==============================] - 1s 4ms/step - loss: 0.1373 - val_loss: 0.1327\n",
      "Epoch 20/50\n",
      "376/376 [==============================] - 1s 4ms/step - loss: 0.1371 - val_loss: 0.1320\n",
      "Epoch 21/50\n",
      "376/376 [==============================] - 1s 4ms/step - loss: 0.1371 - val_loss: 0.1321\n",
      "Epoch 22/50\n",
      "376/376 [==============================] - 1s 4ms/step - loss: 0.1368 - val_loss: 0.1324\n",
      "Epoch 23/50\n",
      "376/376 [==============================] - 1s 4ms/step - loss: 0.1367 - val_loss: 0.1321\n",
      "Epoch 24/50\n",
      "376/376 [==============================] - 1s 4ms/step - loss: 0.1368 - val_loss: 0.1322\n",
      "Epoch 25/50\n",
      "376/376 [==============================] - 1s 4ms/step - loss: 0.1369 - val_loss: 0.1321\n",
      "Epoch 26/50\n",
      "376/376 [==============================] - 1s 4ms/step - loss: 0.1368 - val_loss: 0.1319\n",
      "Epoch 27/50\n",
      "376/376 [==============================] - 1s 4ms/step - loss: 0.1363 - val_loss: 0.1317\n",
      "Epoch 28/50\n",
      "376/376 [==============================] - 1s 4ms/step - loss: 0.1361 - val_loss: 0.1317\n",
      "Epoch 29/50\n",
      "376/376 [==============================] - 1s 4ms/step - loss: 0.1364 - val_loss: 0.1317\n",
      "Epoch 30/50\n",
      "376/376 [==============================] - 1s 4ms/step - loss: 0.1362 - val_loss: 0.1320\n",
      "Epoch 31/50\n",
      "376/376 [==============================] - 1s 4ms/step - loss: 0.1364 - val_loss: 0.1319\n",
      "Epoch 32/50\n",
      "376/376 [==============================] - 1s 4ms/step - loss: 0.1360 - val_loss: 0.1318\n",
      "Epoch 33/50\n",
      "376/376 [==============================] - 1s 4ms/step - loss: 0.1363 - val_loss: 0.1320\n",
      "Epoch 34/50\n",
      "376/376 [==============================] - 1s 4ms/step - loss: 0.1359 - val_loss: 0.1316\n",
      "Epoch 35/50\n",
      "376/376 [==============================] - 1s 4ms/step - loss: 0.1362 - val_loss: 0.1318\n",
      "Epoch 36/50\n",
      "376/376 [==============================] - 1s 4ms/step - loss: 0.1360 - val_loss: 0.1316\n",
      "Epoch 37/50\n",
      "376/376 [==============================] - 1s 4ms/step - loss: 0.1360 - val_loss: 0.1318\n",
      "Epoch 38/50\n",
      "376/376 [==============================] - 1s 4ms/step - loss: 0.1358 - val_loss: 0.1317\n",
      "Epoch 39/50\n",
      "376/376 [==============================] - 1s 4ms/step - loss: 0.1364 - val_loss: 0.1318\n",
      "Epoch 40/50\n",
      "376/376 [==============================] - 1s 4ms/step - loss: 0.1357 - val_loss: 0.1319\n",
      "Epoch 41/50\n",
      "376/376 [==============================] - 1s 4ms/step - loss: 0.1361 - val_loss: 0.1319\n",
      "Epoch 42/50\n",
      "376/376 [==============================] - 1s 4ms/step - loss: 0.1357 - val_loss: 0.1318\n",
      "Epoch 43/50\n",
      "376/376 [==============================] - 1s 4ms/step - loss: 0.1357 - val_loss: 0.1317\n",
      "Epoch 44/50\n",
      "376/376 [==============================] - 1s 4ms/step - loss: 0.1356 - val_loss: 0.1320\n",
      "Epoch 45/50\n",
      "376/376 [==============================] - 1s 4ms/step - loss: 0.1356 - val_loss: 0.1319\n",
      "Epoch 46/50\n",
      "376/376 [==============================] - 1s 4ms/step - loss: 0.1359 - val_loss: 0.1320\n",
      "Epoch 47/50\n",
      "376/376 [==============================] - 1s 4ms/step - loss: 0.1356 - val_loss: 0.1321\n",
      "Epoch 48/50\n",
      "376/376 [==============================] - 1s 4ms/step - loss: 0.1354 - val_loss: 0.1316\n",
      "Epoch 49/50\n",
      "376/376 [==============================] - 1s 4ms/step - loss: 0.1355 - val_loss: 0.1323\n",
      "Epoch 50/50\n",
      "376/376 [==============================] - 1s 4ms/step - loss: 0.1357 - val_loss: 0.1319\n"
     ]
    },
    {
     "data": {
      "text/plain": [
       "<keras.callbacks.History at 0x1dc7731ffd0>"
      ]
     },
     "execution_count": 25,
     "metadata": {},
     "output_type": "execute_result"
    }
   ],
   "source": [
    "ann = Sequential()\n",
    "\n",
    "ann.add(Dense(units=35, activation='relu'))\n",
    "ann.add(Dropout(rate=0.45))\n",
    "\n",
    "ann.add(Dense(units=25, activation='relu'))\n",
    "ann.add(Dropout(rate=0.4))\n",
    "\n",
    "ann.add(Dense(units=1, activation='tanh'))\n",
    "ann.compile(optimizer='adam',loss='mse')\n",
    "ann.fit(xtrain,ytrain, validation_data=(xtest,ytest), epochs = 50)"
   ]
  },
  {
   "cell_type": "code",
   "execution_count": 26,
   "id": "82de985f",
   "metadata": {
    "ExecuteTime": {
     "end_time": "2023-03-16T08:40:06.152804Z",
     "start_time": "2023-03-16T08:40:05.838597Z"
    }
   },
   "outputs": [
    {
     "data": {
      "text/plain": [
       "<AxesSubplot:>"
      ]
     },
     "execution_count": 26,
     "metadata": {},
     "output_type": "execute_result"
    },
    {
     "data": {
      "image/png": "[encoded data removed]",
      "text/plain": [
       "<Figure size 432x288 with 1 Axes>"
      ]
     },
     "metadata": {
      "needs_background": "light"
     },
     "output_type": "display_data"
    }
   ],
   "source": [
    "drop_loss = pd.DataFrame(ann.history.history)\n",
    "drop_loss.plot()"
   ]
  },
  {
   "cell_type": "markdown",
   "id": "876ad065",
   "metadata": {},
   "source": [
    "# Early Stopping + Dropout Layer"
   ]
  },
  {
   "cell_type": "code",
   "execution_count": 28,
   "id": "506e0850",
   "metadata": {
    "ExecuteTime": {
     "end_time": "2023-03-16T08:42:36.653664Z",
     "start_time": "2023-03-16T08:41:17.955922Z"
    }
   },
   "outputs": [
    {
     "name": "stdout",
     "output_type": "stream",
     "text": [
      "Epoch 1/55\n",
      "376/376 [==============================] - 4s 5ms/step - loss: 0.7699 - val_loss: 0.5501\n",
      "Epoch 2/55\n",
      "376/376 [==============================] - 1s 4ms/step - loss: 0.5939 - val_loss: 0.5493\n",
      "Epoch 3/55\n",
      "376/376 [==============================] - 1s 4ms/step - loss: 0.5798 - val_loss: 0.5500\n",
      "Epoch 4/55\n",
      "376/376 [==============================] - 2s 4ms/step - loss: 0.5754 - val_loss: 0.5501\n",
      "Epoch 5/55\n",
      "376/376 [==============================] - 1s 4ms/step - loss: 0.5730 - val_loss: 0.5502\n",
      "Epoch 6/55\n",
      "376/376 [==============================] - 1s 4ms/step - loss: 0.5709 - val_loss: 0.5499\n",
      "Epoch 7/55\n",
      "376/376 [==============================] - 1s 4ms/step - loss: 0.5736 - val_loss: 0.5493\n",
      "Epoch 8/55\n",
      "376/376 [==============================] - 1s 4ms/step - loss: 0.5708 - val_loss: 0.5488\n",
      "Epoch 9/55\n",
      "376/376 [==============================] - 1s 4ms/step - loss: 0.5711 - val_loss: 0.5483\n",
      "Epoch 10/55\n",
      "376/376 [==============================] - 1s 4ms/step - loss: 0.5691 - val_loss: 0.5481\n",
      "Epoch 11/55\n",
      "376/376 [==============================] - 1s 4ms/step - loss: 0.5693 - val_loss: 0.5479\n",
      "Epoch 12/55\n",
      "376/376 [==============================] - 1s 4ms/step - loss: 0.5685 - val_loss: 0.5476\n",
      "Epoch 13/55\n",
      "376/376 [==============================] - 1s 4ms/step - loss: 0.5679 - val_loss: 0.5473\n",
      "Epoch 14/55\n",
      "376/376 [==============================] - 1s 4ms/step - loss: 0.5673 - val_loss: 0.5468\n",
      "Epoch 15/55\n",
      "376/376 [==============================] - 1s 4ms/step - loss: 0.5677 - val_loss: 0.5466\n",
      "Epoch 16/55\n",
      "376/376 [==============================] - 1s 4ms/step - loss: 0.5669 - val_loss: 0.5463\n",
      "Epoch 17/55\n",
      "376/376 [==============================] - 1s 4ms/step - loss: 0.5657 - val_loss: 0.5460\n",
      "Epoch 18/55\n",
      "376/376 [==============================] - 1s 4ms/step - loss: 0.5668 - val_loss: 0.5458\n",
      "Epoch 19/55\n",
      "376/376 [==============================] - 1s 4ms/step - loss: 0.5666 - val_loss: 0.5459\n",
      "Epoch 20/55\n",
      "376/376 [==============================] - 1s 4ms/step - loss: 0.5655 - val_loss: 0.5459\n",
      "Epoch 21/55\n",
      "376/376 [==============================] - 1s 4ms/step - loss: 0.5647 - val_loss: 0.5456\n",
      "Epoch 22/55\n",
      "376/376 [==============================] - 1s 4ms/step - loss: 0.5652 - val_loss: 0.5458\n",
      "Epoch 23/55\n",
      "376/376 [==============================] - 1s 4ms/step - loss: 0.5653 - val_loss: 0.5456\n",
      "Epoch 24/55\n",
      "376/376 [==============================] - 1s 4ms/step - loss: 0.5648 - val_loss: 0.5456\n",
      "Epoch 25/55\n",
      "376/376 [==============================] - 1s 4ms/step - loss: 0.5651 - val_loss: 0.5457\n",
      "Epoch 26/55\n",
      "376/376 [==============================] - 1s 4ms/step - loss: 0.5649 - val_loss: 0.5458\n",
      "Epoch 27/55\n",
      "376/376 [==============================] - 1s 4ms/step - loss: 0.5652 - val_loss: 0.5454\n",
      "Epoch 28/55\n",
      "376/376 [==============================] - 1s 4ms/step - loss: 0.5651 - val_loss: 0.5456\n",
      "Epoch 29/55\n",
      "376/376 [==============================] - 1s 4ms/step - loss: 0.5649 - val_loss: 0.5458\n",
      "Epoch 30/55\n",
      "376/376 [==============================] - 1s 4ms/step - loss: 0.5641 - val_loss: 0.5455\n",
      "Epoch 31/55\n",
      "376/376 [==============================] - 2s 4ms/step - loss: 0.5644 - val_loss: 0.5457\n",
      "Epoch 32/55\n",
      "376/376 [==============================] - 1s 4ms/step - loss: 0.5641 - val_loss: 0.5454\n",
      "Epoch 33/55\n",
      "376/376 [==============================] - 1s 4ms/step - loss: 0.5643 - val_loss: 0.5454\n",
      "Epoch 34/55\n",
      "376/376 [==============================] - 1s 4ms/step - loss: 0.5638 - val_loss: 0.5455\n",
      "Epoch 35/55\n",
      "376/376 [==============================] - 1s 4ms/step - loss: 0.5647 - val_loss: 0.5456\n",
      "Epoch 36/55\n",
      "376/376 [==============================] - 1s 4ms/step - loss: 0.5646 - val_loss: 0.5454\n",
      "Epoch 37/55\n",
      "376/376 [==============================] - 1s 4ms/step - loss: 0.5645 - val_loss: 0.5455\n",
      "Epoch 38/55\n",
      "376/376 [==============================] - 1s 4ms/step - loss: 0.5646 - val_loss: 0.5454\n",
      "Epoch 39/55\n",
      "376/376 [==============================] - 1s 4ms/step - loss: 0.5645 - val_loss: 0.5454\n",
      "Epoch 40/55\n",
      "376/376 [==============================] - 1s 4ms/step - loss: 0.5638 - val_loss: 0.5456\n",
      "Epoch 41/55\n",
      "376/376 [==============================] - 1s 4ms/step - loss: 0.5644 - val_loss: 0.5456\n",
      "Epoch 42/55\n",
      "376/376 [==============================] - 1s 4ms/step - loss: 0.5645 - val_loss: 0.5454\n",
      "Epoch 43/55\n",
      "376/376 [==============================] - 1s 4ms/step - loss: 0.5636 - val_loss: 0.5453\n",
      "Epoch 44/55\n",
      "376/376 [==============================] - 1s 4ms/step - loss: 0.5643 - val_loss: 0.5454\n",
      "Epoch 45/55\n",
      "376/376 [==============================] - 1s 4ms/step - loss: 0.5646 - val_loss: 0.5455\n",
      "Epoch 46/55\n",
      "376/376 [==============================] - 1s 4ms/step - loss: 0.5636 - val_loss: 0.5452\n",
      "Epoch 47/55\n",
      "376/376 [==============================] - 1s 4ms/step - loss: 0.5637 - val_loss: 0.5453\n",
      "Epoch 48/55\n",
      "376/376 [==============================] - 1s 4ms/step - loss: 0.5643 - val_loss: 0.5453\n",
      "Epoch 49/55\n",
      "376/376 [==============================] - 1s 4ms/step - loss: 0.5638 - val_loss: 0.5454\n",
      "Epoch 50/55\n",
      "376/376 [==============================] - 1s 4ms/step - loss: 0.5639 - val_loss: 0.5455\n",
      "Epoch 51/55\n",
      "376/376 [==============================] - 1s 4ms/step - loss: 0.5642 - val_loss: 0.5453\n",
      "Epoch 52/55\n",
      "376/376 [==============================] - 1s 4ms/step - loss: 0.5642 - val_loss: 0.5453\n",
      "Epoch 53/55\n",
      "376/376 [==============================] - 1s 4ms/step - loss: 0.5637 - val_loss: 0.5454\n",
      "Epoch 54/55\n",
      "376/376 [==============================] - 1s 4ms/step - loss: 0.5641 - val_loss: 0.5453\n",
      "Epoch 55/55\n",
      "376/376 [==============================] - 1s 4ms/step - loss: 0.5640 - val_loss: 0.5455\n"
     ]
    },
    {
     "data": {
      "text/plain": [
       "<keras.callbacks.History at 0x1dc02199f70>"
      ]
     },
     "execution_count": 28,
     "metadata": {},
     "output_type": "execute_result"
    }
   ],
   "source": [
    "ann = Sequential()\n",
    "\n",
    "ann.add(Dense(units=30, activation='relu'))\n",
    "ann.add(Dropout(rate=0.5))\n",
    "\n",
    "ann.add(Dense(units=20, activation='relu'))\n",
    "ann.add(Dropout(rate=0.5))\n",
    "\n",
    "ann.add(Dense(units=1, activation='sigmoid'))\n",
    "ann.compile(optimizer='adam',loss='mse')\n",
    "ann.fit(xtrain,ytrain, validation_data=(xtest,ytest),callbacks=[early], epochs = 55)"
   ]
  },
  {
   "cell_type": "code",
   "execution_count": 29,
   "id": "d4d4d017",
   "metadata": {
    "ExecuteTime": {
     "end_time": "2023-03-16T08:42:36.956823Z",
     "start_time": "2023-03-16T08:42:36.658738Z"
    }
   },
   "outputs": [
    {
     "data": {
      "text/plain": [
       "<AxesSubplot:>"
      ]
     },
     "execution_count": 29,
     "metadata": {},
     "output_type": "execute_result"
    },
    {
     "data": {
      "image/png": "[encoded data removed]",
      "text/plain": [
       "<Figure size 432x288 with 1 Axes>"
      ]
     },
     "metadata": {
      "needs_background": "light"
     },
     "output_type": "display_data"
    }
   ],
   "source": [
    "de_loss = pd.DataFrame(ann.history.history)\n",
    "de_loss.plot()"
   ]
  },
  {
   "cell_type": "code",
   "execution_count": 30,
   "id": "8a96fb15",
   "metadata": {
    "ExecuteTime": {
     "end_time": "2023-03-16T08:42:55.107463Z",
     "start_time": "2023-03-16T08:42:54.497493Z"
    }
   },
   "outputs": [
    {
     "data": {
      "image/png": "[encoded data removed]",
      "text/plain": [
       "<Figure size 432x288 with 4 Axes>"
      ]
     },
     "metadata": {
      "needs_background": "light"
     },
     "output_type": "display_data"
    }
   ],
   "source": [
    "plt.subplot(2,2,1)\n",
    "plt.plot(val_loss)\n",
    "plt.title('Validation Loss')\n",
    "\n",
    "plt.subplot(2,2,2)\n",
    "plt.plot(early_loss)\n",
    "plt.title('Early Stopping')\n",
    "\n",
    "plt.subplot(2,2,3)\n",
    "plt.plot(drop_loss)\n",
    "plt.title('DropOut')\n",
    "\n",
    "plt.subplot(2,2,4)\n",
    "plt.plot(de_loss)\n",
    "plt.title('Early+drop')\n",
    "\n",
    "plt.tight_layout()"
   ]
  },
  {
   "cell_type": "code",
   "execution_count": null,
   "id": "7374b3b8",
   "metadata": {},
   "outputs": [],
   "source": []
  }
 ],
 "metadata": {
  "kernelspec": {
   "display_name": "Python 3 (ipykernel)",
   "language": "python",
   "name": "python3"
  },
  "language_info": {
   "codemirror_mode": {
    "name": "ipython",
    "version": 3
   },
   "file_extension": ".py",
   "mimetype": "text/x-python",
   "name": "python",
   "nbconvert_exporter": "python",
   "pygments_lexer": "ipython3",
   "version": "3.9.12"
  }
 },
 "nbformat": 4,
 "nbformat_minor": 5
}
